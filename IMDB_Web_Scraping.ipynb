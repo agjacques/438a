{
 "cells": [
  {
   "cell_type": "markdown",
   "metadata": {
    "colab_type": "text",
    "id": "J98hvywu1gFa"
   },
   "source": [
    "Say for example you wanted to do analysis of movies from IMDB. IMDB doesn't expose an official API for accessing that information. There are unofficial APIs that query IMDB's database, but let's see how to do it ourselves"
   ]
  },
  {
   "cell_type": "code",
   "execution_count": null,
   "metadata": {
    "colab": {},
    "colab_type": "code",
    "id": "NOBLQx_v1Di9"
   },
   "outputs": [],
   "source": [
    "# requests for fetching html of website\n",
    "import requests\n",
    "\n",
    "# Make the request to a url\n",
    "r = requests.get('https://www.imdb.com/search/title/?count=100&release_date=2016,2016&title_type=feature')\n",
    "\n",
    "# Create soup from content of request\n",
    "c = r.content\n",
    "\n",
    "#The docs for BeautifulSoup can be found on https://www.crummy.com/software/BeautifulSoup/bs4/doc/\n",
    "from bs4 import BeautifulSoup\n",
    "\n",
    "soup = BeautifulSoup(c)"
   ]
  },
  {
   "cell_type": "code",
   "execution_count": null,
   "metadata": {
    "colab": {
     "base_uri": "https://localhost:8080/",
     "height": 1000
    },
    "colab_type": "code",
    "id": "RfZEKCJV2AN4",
    "outputId": "13d34a3f-cff1-4ad7-a0f1-0f71f4048e83"
   },
   "outputs": [],
   "source": [
    "#contains the entire HTML content of the webpage\n",
    "soup"
   ]
  },
  {
   "cell_type": "code",
   "execution_count": null,
   "metadata": {
    "colab": {
     "base_uri": "https://localhost:8080/",
     "height": 36
    },
    "colab_type": "code",
    "id": "WVSayWFM4gFr",
    "outputId": "57cfced4-9767-4242-f4d2-97318b41d12a"
   },
   "outputs": [],
   "source": [
    "ranks = soup.find(\"span\", class_=\"text-primary\")\n",
    "ranks\n",
    "\n"
   ]
  },
  {
   "cell_type": "markdown",
   "metadata": {
    "colab_type": "text",
    "id": "isaSTSef5u3l"
   },
   "source": [
    "Oops, this seems to give us only the first thing matching all criteria. What if we want all of them?"
   ]
  },
  {
   "cell_type": "code",
   "execution_count": null,
   "metadata": {
    "colab": {
     "base_uri": "https://localhost:8080/",
     "height": 56
    },
    "colab_type": "code",
    "id": "iE0X-QLf5zcw",
    "outputId": "d64729f6-2dab-4878-9fb8-d2077a5acdee"
   },
   "outputs": [],
   "source": [
    "ranks = soup.find_all(\"span\", class_=\"text-primary\")\n",
    "print(ranks)"
   ]
  },
  {
   "cell_type": "markdown",
   "metadata": {
    "colab_type": "text",
    "id": "VGqg_AOr6BvL"
   },
   "source": [
    "If you're more comfortable writing CSS selectors, BeautifulSoup provides Select, a function which lets you write arbitrarily complex CSS"
   ]
  },
  {
   "cell_type": "code",
   "execution_count": null,
   "metadata": {
    "colab": {
     "base_uri": "https://localhost:8080/",
     "height": 56
    },
    "colab_type": "code",
    "id": "iY5T_Zjs6OIr",
    "outputId": "84884e2e-e882-4a65-8de9-a7ad2c1db6ff"
   },
   "outputs": [],
   "source": [
    "#note that there is no space here. Adding the space changes the meaning to \"find all child elements of a span which have the text-primary class\"\n",
    "ranks = soup.select(\"span.text-primary\")\n",
    "print(ranks)"
   ]
  },
  {
   "cell_type": "code",
   "execution_count": null,
   "metadata": {
    "colab": {
     "base_uri": "https://localhost:8080/",
     "height": 1000
    },
    "colab_type": "code",
    "id": "n4LIoyF27YUQ",
    "outputId": "460238df-cffe-497e-e542-50be145f2b50"
   },
   "outputs": [],
   "source": [
    "def getTextFromElement(tag):\n",
    "  return tag.string\n",
    "\n",
    "ranks_string = map(getTextFromElement,ranks)\n",
    "\n",
    "list(ranks_string)"
   ]
  },
  {
   "cell_type": "code",
   "execution_count": null,
   "metadata": {
    "colab": {
     "base_uri": "https://localhost:8080/",
     "height": 75
    },
    "colab_type": "code",
    "id": "NfcKwOuC8rnX",
    "outputId": "225a4aa7-c1ef-46fd-ca6d-648eed7cb4bc"
   },
   "outputs": [],
   "source": [
    "def getIntegerFromString(str):\n",
    "  return int(float(str))\n",
    "\n",
    "#that isn't really what we want, let's make it numeric\n",
    "def getIntegerFromElement(tag):\n",
    "  #tag.string gets us the text from the current element\n",
    "  #float parses it from a string to a numeric type (specifially a float which allows decimals)\n",
    "  #int parses the float into a number without a decimal point\n",
    "  return getIntegerFromString(tag.string)\n",
    "\n",
    "ranks_int = list(map(getIntegerFromElement,ranks))\n",
    "\n",
    "#if this was too long, we could just print len(list(ranks_int)) to make sure we have the right size\n",
    "print(ranks_int)\n",
    "print(type(ranks_int[0]))\n"
   ]
  },
  {
   "cell_type": "markdown",
   "metadata": {
    "colab_type": "text",
    "id": "Pdo6B27J-EvQ"
   },
   "source": [
    "Now let's move onto titles"
   ]
  },
  {
   "cell_type": "code",
   "execution_count": null,
   "metadata": {
    "colab": {
     "base_uri": "https://localhost:8080/",
     "height": 93
    },
    "colab_type": "code",
    "id": "K79eqqdU-D07",
    "outputId": "fec1c444-0010-47f0-d6df-2ef03909af80"
   },
   "outputs": [],
   "source": [
    "titles = list(map(getTextFromElement,soup.select(\".lister-item-header a\")))\n",
    "\n",
    "print(len(titles))\n",
    "print(titles)\n",
    "print(type(titles[0]))"
   ]
  },
  {
   "cell_type": "code",
   "execution_count": null,
   "metadata": {
    "colab": {
     "base_uri": "https://localhost:8080/",
     "height": 75
    },
    "colab_type": "code",
    "id": "uRgAOrjoiRdK",
    "outputId": "1f9eefd3-a56d-4f38-e176-47991f8f5c8d"
   },
   "outputs": [],
   "source": [
    "descriptions = list(map(getTextFromElement,soup.select(\".ratings-bar + .text-muted\")))\n",
    "\n",
    "print(len(descriptions))\n",
    "print(descriptions)"
   ]
  },
  {
   "cell_type": "markdown",
   "metadata": {
    "colab_type": "text",
    "id": "X4FSaOblMMiK"
   },
   "source": [
    "There's some characters in front of the description. Let's clean those up"
   ]
  },
  {
   "cell_type": "code",
   "execution_count": null,
   "metadata": {
    "colab": {},
    "colab_type": "code",
    "id": "AsrNvInUMUQt"
   },
   "outputs": [],
   "source": [
    "#if you want to see a visual explanation of what a regex does, use https://regex101.com/ and select the \"python\" flavor\n",
    "import re\n",
    "\n",
    "\n",
    "newLineRegex = re.compile(\"\\\\n\") #We want to find the string \"\\n\". regex needs to replace that backslash so it becomes \\\\.\n",
    "#we can also use r\"\\n\" to not have to worry about escaping the backslashes and have the python interpreter substitute it on our behalf\n",
    "\n",
    "def replaceNewLine(tagValue):\n",
    "  return newLineRegex.sub(\"\",tagValue)"
   ]
  },
  {
   "cell_type": "code",
   "execution_count": null,
   "metadata": {
    "colab": {
     "base_uri": "https://localhost:8080/",
     "height": 150
    },
    "colab_type": "code",
    "id": "7wY0QF3lOUsN",
    "outputId": "1d679ab2-23dd-46e8-e2df-f87e43864f66"
   },
   "outputs": [],
   "source": [
    "print(type(descriptions[0]))\n",
    "print(type(descriptions[0].string))\n",
    "print(type(titles[0]))\n",
    "\n",
    "def convertTagToString(tag):\n",
    "  #Advanced: UTF-8 is one way to specify the string type. This line converts NavigableString to the bytes type and then decodes the bytes into the python native string type 'str'\n",
    "  return str(tag).encode('utf-8').decode(\"utf-8\") \n",
    "\n",
    "descriptionStrings = list(map(convertTagToString, descriptions))\n",
    "\n",
    "print(type(descriptionStrings[0]))\n",
    "print(descriptionStrings[0])"
   ]
  },
  {
   "cell_type": "code",
   "execution_count": null,
   "metadata": {
    "colab": {
     "base_uri": "https://localhost:8080/",
     "height": 56
    },
    "colab_type": "code",
    "id": "Y6dHy2XIQUj7",
    "outputId": "9ebd407c-f6e6-47f9-d462-ccf0dbe0f590"
   },
   "outputs": [],
   "source": [
    "updatedDescriptions = list(map(replaceNewLine, descriptionStrings))\n",
    "print(updatedDescriptions)"
   ]
  },
  {
   "cell_type": "code",
   "execution_count": null,
   "metadata": {
    "colab": {},
    "colab_type": "code",
    "id": "weJvaN9zRNuX"
   },
   "outputs": [],
   "source": [
    "extraSpaceRegex = re.compile(r\"\\s{2,}\") #Advanced: look for two or more spaces\n",
    "\n",
    "def replaceExtraSpaces(tagValue):\n",
    "  return extraSpaceRegex.sub(\"\",tagValue)"
   ]
  },
  {
   "cell_type": "code",
   "execution_count": null,
   "metadata": {
    "colab": {
     "base_uri": "https://localhost:8080/",
     "height": 56
    },
    "colab_type": "code",
    "id": "vQJoLXGIRsJP",
    "outputId": "5b0a85db-844e-4bf3-cfc1-95a626767a66"
   },
   "outputs": [],
   "source": [
    "cleanDescriptions = list(map(replaceExtraSpaces,updatedDescriptions))\n",
    "print(cleanDescriptions)"
   ]
  },
  {
   "cell_type": "markdown",
   "metadata": {
    "colab_type": "text",
    "id": "87PFRjhfXf90"
   },
   "source": [
    "Let's grab runtimes now"
   ]
  },
  {
   "cell_type": "code",
   "execution_count": null,
   "metadata": {
    "colab": {
     "base_uri": "https://localhost:8080/",
     "height": 55
    },
    "colab_type": "code",
    "id": "01i4nQWWUi0y",
    "outputId": "cf061013-a719-4e2f-fe37-868105313447"
   },
   "outputs": [],
   "source": [
    "runtimeDataRaw = list(map(getTextFromElement, soup.select(\".text-muted .runtime\")))\n",
    "print(runtimeDataRaw[0])\n",
    "print(len(runtimeDataRaw))"
   ]
  },
  {
   "cell_type": "code",
   "execution_count": null,
   "metadata": {
    "colab": {
     "base_uri": "https://localhost:8080/",
     "height": 73
    },
    "colab_type": "code",
    "id": "2v28PUabU6qn",
    "outputId": "52ac113d-e5f1-428e-8b20-536c93b9a0d3"
   },
   "outputs": [],
   "source": [
    "#Advanced: find one or more spaces followed by the text 'min'\n",
    "runtimeRegex=re.compile(\"\\s+min\")\n",
    "\n",
    "def cleanRuntime(tag):\n",
    "  return runtimeRegex.sub(\"\",tag)\n",
    "\n",
    "stringRuntimes = list(map(convertTagToString, runtimeDataRaw))\n",
    "runtimes = list(map(cleanRuntime, stringRuntimes))\n",
    "\n",
    "print(runtimes[0])\n",
    "print(len(runtimes))\n",
    "\n",
    "numericRuntimes = list(map(getIntegerFromString, runtimes))\n",
    "print(type(numericRuntimes[0]))"
   ]
  },
  {
   "cell_type": "code",
   "execution_count": null,
   "metadata": {
    "colab": {
     "base_uri": "https://localhost:8080/",
     "height": 73
    },
    "colab_type": "code",
    "id": "m3K_SFonXdqS",
    "outputId": "462275af-0489-4d0a-ce3a-ff0693132bb1"
   },
   "outputs": [],
   "source": [
    "rawGenres = list(map(getTextFromElement, soup.select(\".genre\")))\n",
    "print(rawGenres[0])\n",
    "print(len(rawGenres))"
   ]
  },
  {
   "cell_type": "markdown",
   "metadata": {
    "colab_type": "text",
    "id": "u80--xZ7X1vi"
   },
   "source": [
    "There's a world where we could create a column for each genre type so a movie could have multiple genres. For simplicity, let's take the first one"
   ]
  },
  {
   "cell_type": "code",
   "execution_count": null,
   "metadata": {
    "colab": {
     "base_uri": "https://localhost:8080/",
     "height": 56
    },
    "colab_type": "code",
    "id": "785EoDUMYIzT",
    "outputId": "bb22e45e-4e27-4f2a-b3a3-a0e32f723b0d"
   },
   "outputs": [],
   "source": [
    "genreStrings = list(map(convertTagToString, rawGenres))\n",
    "genreNoNewLine = list(map(replaceNewLine, genreStrings))\n",
    "print(genreNoNewLine)"
   ]
  },
  {
   "cell_type": "code",
   "execution_count": null,
   "metadata": {
    "colab": {
     "base_uri": "https://localhost:8080/",
     "height": 56
    },
    "colab_type": "code",
    "id": "p32wadabYx9G",
    "outputId": "f51f69ce-a248-41a6-ad3a-8daaee9fb991"
   },
   "outputs": [],
   "source": [
    "allSpaceRegex = re.compile(\"\\s+\")\n",
    "\n",
    "def removeAllSpaces(str):\n",
    "  return allSpaceRegex.sub(\"\", str)\n",
    "  \n",
    "genreList = list(map(removeAllSpaces,genreNoNewLine))\n",
    "\n",
    "print(genreList)"
   ]
  },
  {
   "cell_type": "code",
   "execution_count": null,
   "metadata": {
    "colab": {
     "base_uri": "https://localhost:8080/",
     "height": 56
    },
    "colab_type": "code",
    "id": "XuihZh_2aCs5",
    "outputId": "d019b83c-f479-414f-c4c5-505066fa303d"
   },
   "outputs": [],
   "source": [
    "#Advanced: period is a wildcard character in regex, so this says match a comma followed by 0 or more characters of any kind\n",
    "firstElementRegex = re.compile(\",.*\")\n",
    "\n",
    "def firstElementOnly(str):\n",
    "  return firstElementRegex.sub(\"\",str)\n",
    "\n",
    "singleGenreList = list(map(firstElementOnly,genreList))\n",
    "print(singleGenreList)"
   ]
  },
  {
   "cell_type": "code",
   "execution_count": null,
   "metadata": {
    "colab": {
     "base_uri": "https://localhost:8080/",
     "height": 261
    },
    "colab_type": "code",
    "id": "bg8xr0Z9arC6",
    "outputId": "dc9b3fc3-feeb-48f5-d763-8d905e2e33cf"
   },
   "outputs": [],
   "source": [
    "#now let's make it categorical\n",
    "import pandas as pd\n",
    "\n",
    "genreSeries = pd.Series(singleGenreList, dtype='category')\n",
    "\n",
    "genreSeries"
   ]
  },
  {
   "cell_type": "markdown",
   "metadata": {
    "colab_type": "text",
    "id": "Z8MFc0DSbTVL"
   },
   "source": [
    "If you want to practice, try getting the rating data into numeric form (using CSS selector '.ratings-imdb-rating strong') and votes into numeric form (using CSS selector '.sort-num_votes-visible span:nth-child(2)').\n",
    "\n",
    "You can also practice categorical data with actors ('.lister-item-content .ghost+ a') and cirectors ('.text-muted+ p a:nth-child(1)')"
   ]
  },
  {
   "cell_type": "code",
   "execution_count": null,
   "metadata": {
    "colab": {
     "base_uri": "https://localhost:8080/",
     "height": 93
    },
    "colab_type": "code",
    "id": "ICpdMPU-bxBU",
    "outputId": "dbc0f314-2a26-4d93-fe2d-391bbaca8b81"
   },
   "outputs": [],
   "source": [
    "#Metascores\n",
    "rawMetascores = list(map(getTextFromElement, soup.select('.metascore')))\n",
    "print(rawMetascores)\n",
    "\n",
    "\"\"\"\n",
    "fun syntax trick: instead of using Map, we can use list comprehension in Python instead\n",
    "\n",
    "The structure is expression (e.g. what you want to do for each element) for temporaryVariableName (representing an individual element) in collection (your original list)\n",
    "\"\"\"\n",
    "metaScoreStrings = [convertTagToString(tag) for tag in rawMetascores]\n",
    "\n",
    "#you can make your expressions arbitrarily complex -> it gets harder to read but allows you to iterate over your dataset once\n",
    "numericMetascores = [getIntegerFromString(removeAllSpaces(convertTagToString(tag))) for tag in rawMetascores]\n",
    "print(numericMetascores)\n",
    "print(len(numericMetascores))"
   ]
  },
  {
   "cell_type": "markdown",
   "metadata": {
    "colab_type": "text",
    "id": "9ChAEXbDeb4i"
   },
   "source": [
    "Uh oh, this list doesn't have the same length as the others. How did this happen? What can we do about it? What would happen if we attempted to make a dataset with this vector?"
   ]
  },
  {
   "cell_type": "code",
   "execution_count": null,
   "metadata": {
    "colab": {
     "base_uri": "https://localhost:8080/",
     "height": 75
    },
    "colab_type": "code",
    "id": "xeARAftAjCjr",
    "outputId": "9b1168e9-6366-4e15-f0b0-2501c191af19"
   },
   "outputs": [],
   "source": [
    "rawGrossData = [convertTagToString(getTextFromElement(s)) for s in soup.select(\".ghost ~ .text-muted + span\")]\n",
    "\"\"\"\n",
    "Advanced: ^ signifies the start of the string and $ signifies the end of the string. Regex can search anywhere in the string, this specifies that it must match the entire string.\n",
    "This regex says the string must start with a \"$\", capture any number of characters, then it must end with an \"M\".\n",
    "Findall returns a list in case the regex matches the string multiple times or has multiple groups, so we simply take the first (and only in this case) element\n",
    "\"\"\"\n",
    "grossDataNumericString = [re.findall(r\"^\\$(.*)M$\", s)[0] for s in rawGrossData]\n",
    "grossDataNumeric = [float(s) for s in grossDataNumericString]\n",
    "print(grossDataNumeric)\n",
    "print(len(grossDataNumeric))"
   ]
  },
  {
   "cell_type": "markdown",
   "metadata": {
    "colab_type": "text",
    "id": "Y8M3mq4SmZPR"
   },
   "source": [
    "One way to fill the data is to go back, look at the source, and manually determine which elements are missing data. This obviously doesn't scale for large datasets, but let's do this as an example to make the data element be the same size as everything else and yet correct"
   ]
  },
  {
   "cell_type": "code",
   "execution_count": null,
   "metadata": {
    "colab": {
     "base_uri": "https://localhost:8080/",
     "height": 75
    },
    "colab_type": "code",
    "id": "pRdLCQgzmpFY",
    "outputId": "a39bb5aa-4257-4928-e65c-ed3df1f1d668"
   },
   "outputs": [],
   "source": [
    "#these are the movie numbers from 1-100\n",
    "\n",
    "\"\"\"\n",
    "everything is 0 indexed so if we want to replace the 36th element from 1-100 \n",
    "(e.g. index 35 in our list), we want to \n",
    "1. grab elements 0-34, \n",
    "2. append the None at place 35\n",
    "3. and then add the rest of the data after\n",
    "\"\"\"\n",
    "indicesMissingGross = [20, 60, 61, 74, 80,84,87,97]\n",
    "\n",
    "for i in indicesMissingGross:\n",
    "  #remember that when subsetting, the first parameter is inclusive and the second is exclusive\n",
    "  a = grossDataNumeric[0:(i-1)]\n",
    "  #len of data is always one more than the indices in the list, but since the last parameter is exclusive, we wont hit an exception \n",
    "  b = grossDataNumeric[(i-1):len(grossDataNumeric)]\n",
    "  #append adds the parameter to the end of the list\n",
    "  a.append(None)\n",
    "  #if we called append here, it would add the entire list to the next position e.g. [1,2,3,[4,5,6,....]]. Extend does what we want i.e. smash the two lists into 1\n",
    "  a.extend(b)\n",
    "  #update grossDataNumeric to be the new data. Next time a will be longer than in this iteration\n",
    "  grossDataNumeric = a\n",
    "  \n",
    "print(grossDataNumeric)\n",
    "print(len(grossDataNumeric))"
   ]
  },
  {
   "cell_type": "code",
   "execution_count": null,
   "metadata": {
    "colab": {
     "base_uri": "https://localhost:8080/",
     "height": 424
    },
    "colab_type": "code",
    "id": "iGR01UgEvMtB",
    "outputId": "67ac119a-dbc6-473a-f7b8-3847d5c154a8"
   },
   "outputs": [],
   "source": [
    "imdbData = pd.concat([pd.Series(ranks_int,name='rank'),pd.Series(titles,name='title'),pd.Series(cleanDescriptions,name='description'),pd.Series(numericRuntimes,name='runtime'), pd.Series(genreSeries,name='genre'),pd.Series(grossDataNumeric,name='Gross')], axis=1)\n",
    "imdbData"
   ]
  },
  {
   "cell_type": "code",
   "execution_count": null,
   "metadata": {
    "colab": {
     "base_uri": "https://localhost:8080/",
     "height": 75
    },
    "colab_type": "code",
    "id": "usXG1nskudyZ",
    "outputId": "3d28bbaf-3800-4c34-8f53-e2fd8c9c56a5"
   },
   "outputs": [],
   "source": [
    "#try iterating over each movie element and pull only the relevant fields\n",
    "\n",
    "movieTags = soup.select(\".lister-item.mode-advanced\")\n",
    "\n",
    "movies=[]\n",
    "\n",
    "for masterTag in movieTags:\n",
    "  #this is the same selector we used in the first element\n",
    "  rawRank = masterTag.select(\"span.text-primary\")\n",
    "  rawTitle = masterTag.select(\".lister-item-header a\")\n",
    "\n",
    "  #select returns a list. We know this will only return one, so we can hardcode it to check that the length of the list is 1. Attempting to access an element in an empty list will cause an exception, hence why we check\n",
    "  if(len(rawRank) == 1):\n",
    "    rank = getIntegerFromElement(rawRank[0])\n",
    "    \n",
    "  else:\n",
    "    rank = None\n",
    "\n",
    "  if(len(rawTitle) == 1):\n",
    "    title = getTextFromElement(rawTitle[0])\n",
    "  else:\n",
    "      title = None\n",
    "  #we can keep adding in other elements as well. For clarity's sake, it's probably better to define a function for each data element we want and pass the tag in\n",
    "  movies.append([rank, title])\n",
    "\n",
    "print(len(movies))\n",
    "print(movies)"
   ]
  },
  {
   "cell_type": "markdown",
   "metadata": {
    "colab_type": "text",
    "id": "Q8GpRQtC6nMg"
   },
   "source": [
    "You can check out cool visualizations from this dataset at https://www.analyticsvidhya.com/blog/2017/03/beginners-guide-on-web-scraping-in-r-using-rvest-with-hands-on-knowledge/"
   ]
  },
  {
   "cell_type": "code",
   "execution_count": null,
   "metadata": {},
   "outputs": [],
   "source": []
  }
 ],
 "metadata": {
  "colab": {
   "collapsed_sections": [],
   "name": "IMDB Web Scraping.ipynb",
   "provenance": []
  },
  "kernelspec": {
   "display_name": "Python 3",
   "language": "python",
   "name": "python3"
  },
  "language_info": {
   "codemirror_mode": {
    "name": "ipython",
    "version": 3
   },
   "file_extension": ".py",
   "mimetype": "text/x-python",
   "name": "python",
   "nbconvert_exporter": "python",
   "pygments_lexer": "ipython3",
   "version": "3.7.4"
  }
 },
 "nbformat": 4,
 "nbformat_minor": 1
}
