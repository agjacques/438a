{
 "cells": [
  {
   "cell_type": "code",
   "execution_count": 1,
   "metadata": {},
   "outputs": [],
   "source": [
    "# we begin with importing of pandas to help with data manipulation\n",
    "import pandas as pd"
   ]
  },
  {
   "cell_type": "code",
   "execution_count": 2,
   "metadata": {},
   "outputs": [],
   "source": [
    "# be sure to have the csv file questselections18.csv in the same directory as this ipynb\n",
    "df = pd.read_csv(\"questselections18.csv\")"
   ]
  },
  {
   "cell_type": "code",
   "execution_count": 3,
   "metadata": {},
   "outputs": [
    {
     "data": {
      "text/html": [
       "<div>\n",
       "<style scoped>\n",
       "    .dataframe tbody tr th:only-of-type {\n",
       "        vertical-align: middle;\n",
       "    }\n",
       "\n",
       "    .dataframe tbody tr th {\n",
       "        vertical-align: top;\n",
       "    }\n",
       "\n",
       "    .dataframe thead th {\n",
       "        text-align: right;\n",
       "    }\n",
       "</style>\n",
       "<table border=\"1\" class=\"dataframe\">\n",
       "  <thead>\n",
       "    <tr style=\"text-align: right;\">\n",
       "      <th></th>\n",
       "      <th>id</th>\n",
       "      <th>credits</th>\n",
       "      <th>gpa</th>\n",
       "      <th>school</th>\n",
       "      <th>score</th>\n",
       "      <th>interview</th>\n",
       "    </tr>\n",
       "  </thead>\n",
       "  <tbody>\n",
       "    <tr>\n",
       "      <td>0</td>\n",
       "      <td>1757</td>\n",
       "      <td>15</td>\n",
       "      <td>3.55</td>\n",
       "      <td>CMNS</td>\n",
       "      <td>3.5</td>\n",
       "      <td>1</td>\n",
       "    </tr>\n",
       "    <tr>\n",
       "      <td>1</td>\n",
       "      <td>1760</td>\n",
       "      <td>15</td>\n",
       "      <td>4.00</td>\n",
       "      <td>CMNS</td>\n",
       "      <td>4.0</td>\n",
       "      <td>1</td>\n",
       "    </tr>\n",
       "    <tr>\n",
       "      <td>2</td>\n",
       "      <td>1761</td>\n",
       "      <td>15</td>\n",
       "      <td>3.45</td>\n",
       "      <td>Clark</td>\n",
       "      <td>4.5</td>\n",
       "      <td>1</td>\n",
       "    </tr>\n",
       "    <tr>\n",
       "      <td>3</td>\n",
       "      <td>1762</td>\n",
       "      <td>18</td>\n",
       "      <td>3.40</td>\n",
       "      <td>Clark</td>\n",
       "      <td>4.5</td>\n",
       "      <td>1</td>\n",
       "    </tr>\n",
       "    <tr>\n",
       "      <td>4</td>\n",
       "      <td>1763</td>\n",
       "      <td>19</td>\n",
       "      <td>3.38</td>\n",
       "      <td>Smith</td>\n",
       "      <td>2.5</td>\n",
       "      <td>0</td>\n",
       "    </tr>\n",
       "  </tbody>\n",
       "</table>\n",
       "</div>"
      ],
      "text/plain": [
       "     id  credits   gpa school  score  interview\n",
       "0  1757       15  3.55   CMNS    3.5          1\n",
       "1  1760       15  4.00   CMNS    4.0          1\n",
       "2  1761       15  3.45  Clark    4.5          1\n",
       "3  1762       18  3.40  Clark    4.5          1\n",
       "4  1763       19  3.38  Smith    2.5          0"
      ]
     },
     "execution_count": 3,
     "metadata": {},
     "output_type": "execute_result"
    }
   ],
   "source": [
    "# we begin with a simple examination of the first few rows of the dataframe\n",
    "# notice that there are six columns, which I define here:\n",
    "#\n",
    "# id (Ordinal) - a unique identifier for each application received by QUEST in 2018\n",
    "# note that applications that are received earlier have lower id scores\n",
    "# some id's are missing because a student may have started an application but\n",
    "# didn't submit it\n",
    "#\n",
    "# credits (Ratio) - an integer that is a count of the number of college credits an\n",
    "# applicant has when they submit their application.  Note that the number of credits\n",
    "# may be greater than zero even when a student applies in the fall semester because\n",
    "# of AP or similar credits they bring to the University of Maryland\n",
    "#\n",
    "# gpa (Ratio) - what is the current college gpa of the applicant\n",
    "#\n",
    "# school (Nominal) - this can be \"CMNS\" or \"Clark\" or \"Smith\"\n",
    "#\n",
    "# score (Interval) - what is the average score of the quality of the application based on alumni\n",
    "# and current student reviewers\n",
    "#\n",
    "# interview (Ordinal or Categorical?) - a binary variable that is '1' if the applicant is invited to come and interview\n",
    "# and '0' if the applicant is not invited\n",
    "\n",
    "df.head()"
   ]
  },
  {
   "cell_type": "code",
   "execution_count": 4,
   "metadata": {},
   "outputs": [
    {
     "data": {
      "text/html": [
       "<div>\n",
       "<style scoped>\n",
       "    .dataframe tbody tr th:only-of-type {\n",
       "        vertical-align: middle;\n",
       "    }\n",
       "\n",
       "    .dataframe tbody tr th {\n",
       "        vertical-align: top;\n",
       "    }\n",
       "\n",
       "    .dataframe thead th {\n",
       "        text-align: right;\n",
       "    }\n",
       "</style>\n",
       "<table border=\"1\" class=\"dataframe\">\n",
       "  <thead>\n",
       "    <tr style=\"text-align: right;\">\n",
       "      <th></th>\n",
       "      <th>id</th>\n",
       "      <th>credits</th>\n",
       "      <th>gpa</th>\n",
       "      <th>score</th>\n",
       "      <th>interview</th>\n",
       "    </tr>\n",
       "  </thead>\n",
       "  <tbody>\n",
       "    <tr>\n",
       "      <td>count</td>\n",
       "      <td>226.000000</td>\n",
       "      <td>226.000000</td>\n",
       "      <td>226.000000</td>\n",
       "      <td>226.000000</td>\n",
       "      <td>226.000000</td>\n",
       "    </tr>\n",
       "    <tr>\n",
       "      <td>mean</td>\n",
       "      <td>1976.464602</td>\n",
       "      <td>18.482301</td>\n",
       "      <td>3.606726</td>\n",
       "      <td>3.348083</td>\n",
       "      <td>0.646018</td>\n",
       "    </tr>\n",
       "    <tr>\n",
       "      <td>std</td>\n",
       "      <td>142.211958</td>\n",
       "      <td>8.730643</td>\n",
       "      <td>0.518318</td>\n",
       "      <td>0.865971</td>\n",
       "      <td>0.479265</td>\n",
       "    </tr>\n",
       "    <tr>\n",
       "      <td>min</td>\n",
       "      <td>1757.000000</td>\n",
       "      <td>0.000000</td>\n",
       "      <td>0.000000</td>\n",
       "      <td>0.000000</td>\n",
       "      <td>0.000000</td>\n",
       "    </tr>\n",
       "    <tr>\n",
       "      <td>25%</td>\n",
       "      <td>1861.000000</td>\n",
       "      <td>15.000000</td>\n",
       "      <td>3.460000</td>\n",
       "      <td>3.000000</td>\n",
       "      <td>0.000000</td>\n",
       "    </tr>\n",
       "    <tr>\n",
       "      <td>50%</td>\n",
       "      <td>1951.500000</td>\n",
       "      <td>16.000000</td>\n",
       "      <td>3.705000</td>\n",
       "      <td>3.500000</td>\n",
       "      <td>1.000000</td>\n",
       "    </tr>\n",
       "    <tr>\n",
       "      <td>75%</td>\n",
       "      <td>2085.750000</td>\n",
       "      <td>17.000000</td>\n",
       "      <td>3.917500</td>\n",
       "      <td>4.000000</td>\n",
       "      <td>1.000000</td>\n",
       "    </tr>\n",
       "    <tr>\n",
       "      <td>max</td>\n",
       "      <td>2277.000000</td>\n",
       "      <td>60.000000</td>\n",
       "      <td>4.000000</td>\n",
       "      <td>5.000000</td>\n",
       "      <td>1.000000</td>\n",
       "    </tr>\n",
       "  </tbody>\n",
       "</table>\n",
       "</div>"
      ],
      "text/plain": [
       "                id     credits         gpa       score   interview\n",
       "count   226.000000  226.000000  226.000000  226.000000  226.000000\n",
       "mean   1976.464602   18.482301    3.606726    3.348083    0.646018\n",
       "std     142.211958    8.730643    0.518318    0.865971    0.479265\n",
       "min    1757.000000    0.000000    0.000000    0.000000    0.000000\n",
       "25%    1861.000000   15.000000    3.460000    3.000000    0.000000\n",
       "50%    1951.500000   16.000000    3.705000    3.500000    1.000000\n",
       "75%    2085.750000   17.000000    3.917500    4.000000    1.000000\n",
       "max    2277.000000   60.000000    4.000000    5.000000    1.000000"
      ]
     },
     "execution_count": 4,
     "metadata": {},
     "output_type": "execute_result"
    }
   ],
   "source": [
    "# descriptive statistics of the quantitative variables\n",
    "df.describe()"
   ]
  },
  {
   "cell_type": "code",
   "execution_count": 5,
   "metadata": {},
   "outputs": [
    {
     "data": {
      "text/html": [
       "<div>\n",
       "<style scoped>\n",
       "    .dataframe tbody tr th:only-of-type {\n",
       "        vertical-align: middle;\n",
       "    }\n",
       "\n",
       "    .dataframe tbody tr th {\n",
       "        vertical-align: top;\n",
       "    }\n",
       "\n",
       "    .dataframe thead th {\n",
       "        text-align: right;\n",
       "    }\n",
       "</style>\n",
       "<table border=\"1\" class=\"dataframe\">\n",
       "  <thead>\n",
       "    <tr style=\"text-align: right;\">\n",
       "      <th></th>\n",
       "      <th>id</th>\n",
       "      <th>credits</th>\n",
       "      <th>gpa</th>\n",
       "      <th>school</th>\n",
       "      <th>score</th>\n",
       "      <th>interview</th>\n",
       "      <th>CMNS</th>\n",
       "      <th>Clark</th>\n",
       "      <th>Smith</th>\n",
       "    </tr>\n",
       "  </thead>\n",
       "  <tbody>\n",
       "    <tr>\n",
       "      <td>0</td>\n",
       "      <td>1757</td>\n",
       "      <td>15</td>\n",
       "      <td>3.55</td>\n",
       "      <td>CMNS</td>\n",
       "      <td>3.5</td>\n",
       "      <td>1</td>\n",
       "      <td>1</td>\n",
       "      <td>0</td>\n",
       "      <td>0</td>\n",
       "    </tr>\n",
       "    <tr>\n",
       "      <td>1</td>\n",
       "      <td>1760</td>\n",
       "      <td>15</td>\n",
       "      <td>4.00</td>\n",
       "      <td>CMNS</td>\n",
       "      <td>4.0</td>\n",
       "      <td>1</td>\n",
       "      <td>1</td>\n",
       "      <td>0</td>\n",
       "      <td>0</td>\n",
       "    </tr>\n",
       "    <tr>\n",
       "      <td>2</td>\n",
       "      <td>1761</td>\n",
       "      <td>15</td>\n",
       "      <td>3.45</td>\n",
       "      <td>Clark</td>\n",
       "      <td>4.5</td>\n",
       "      <td>1</td>\n",
       "      <td>0</td>\n",
       "      <td>1</td>\n",
       "      <td>0</td>\n",
       "    </tr>\n",
       "    <tr>\n",
       "      <td>3</td>\n",
       "      <td>1762</td>\n",
       "      <td>18</td>\n",
       "      <td>3.40</td>\n",
       "      <td>Clark</td>\n",
       "      <td>4.5</td>\n",
       "      <td>1</td>\n",
       "      <td>0</td>\n",
       "      <td>1</td>\n",
       "      <td>0</td>\n",
       "    </tr>\n",
       "    <tr>\n",
       "      <td>4</td>\n",
       "      <td>1763</td>\n",
       "      <td>19</td>\n",
       "      <td>3.38</td>\n",
       "      <td>Smith</td>\n",
       "      <td>2.5</td>\n",
       "      <td>0</td>\n",
       "      <td>0</td>\n",
       "      <td>0</td>\n",
       "      <td>1</td>\n",
       "    </tr>\n",
       "  </tbody>\n",
       "</table>\n",
       "</div>"
      ],
      "text/plain": [
       "     id  credits   gpa school  score  interview  CMNS  Clark  Smith\n",
       "0  1757       15  3.55   CMNS    3.5          1     1      0      0\n",
       "1  1760       15  4.00   CMNS    4.0          1     1      0      0\n",
       "2  1761       15  3.45  Clark    4.5          1     0      1      0\n",
       "3  1762       18  3.40  Clark    4.5          1     0      1      0\n",
       "4  1763       19  3.38  Smith    2.5          0     0      0      1"
      ]
     },
     "execution_count": 5,
     "metadata": {},
     "output_type": "execute_result"
    }
   ],
   "source": [
    "dummies = pd.get_dummies(df[\"school\"])\n",
    "df = pd.concat([df, dummies], axis=1)\n",
    "df.head()"
   ]
  },
  {
   "cell_type": "code",
   "execution_count": 6,
   "metadata": {},
   "outputs": [
    {
     "data": {
      "text/plain": [
       "<matplotlib.axes._subplots.AxesSubplot at 0x11d4ca510>"
      ]
     },
     "execution_count": 6,
     "metadata": {},
     "output_type": "execute_result"
    }
   ],
   "source": [
    "# a kernel density plot of the variable 'score\"\n",
    "# notice that it looks like a normal distribution\n",
    "df[\"score\"].plot.kde()"
   ]
  },
  {
   "cell_type": "code",
   "execution_count": 7,
   "metadata": {},
   "outputs": [
    {
     "name": "stdout",
     "output_type": "stream",
     "text": [
      "Applicant  1769 has a zero GPA.\n",
      "Applicant  1773 has a zero GPA.\n",
      "Applicant  1922 has a zero GPA.\n"
     ]
    }
   ],
   "source": [
    "# notice from the descriptive statistics that some students have a zero gpa and some have zero credits when\n",
    "# they are applying to QUEST.  Does this seem right to you?  Let's take a look at these rows using the following\n",
    "# code\n",
    "for index, row in df.iterrows():\n",
    "    if row[\"gpa\"] == 0:\n",
    "        print (\"Applicant \", row[\"id\"], \"has a zero GPA.\")"
   ]
  },
  {
   "cell_type": "code",
   "execution_count": 8,
   "metadata": {},
   "outputs": [],
   "source": [
    "# can you write some code below that prints out all of the applicant IDs if they have zero credits?"
   ]
  },
  {
   "cell_type": "code",
   "execution_count": 9,
   "metadata": {},
   "outputs": [],
   "source": [
    "# how should we handle applicants that have a zero GPA or zero credits?  There is no easy solution, is there?"
   ]
  },
  {
   "cell_type": "code",
   "execution_count": 10,
   "metadata": {},
   "outputs": [
    {
     "data": {
      "image/png": "[encoded data removed]",
      "text/plain": [
       "<Figure size 432x288 with 1 Axes>"
      ]
     },
     "metadata": {
      "needs_background": "light"
     },
     "output_type": "display_data"
    }
   ],
   "source": [
    "# let's now take a look at some interesting ways to examine the data.  We will start with the average GPAs\n",
    "# for the students in each of the three colleges\n",
    "boxplot = df.boxplot(column=['gpa'], by=['school'])"
   ]
  },
  {
   "cell_type": "code",
   "execution_count": 11,
   "metadata": {},
   "outputs": [],
   "source": [
    "# notice that the boxplots don't look very good if you haven't taken care of the applicants with zero GPAs\n",
    "# see if you can do something to fix this and redraw the boxplot"
   ]
  },
  {
   "cell_type": "code",
   "execution_count": 14,
   "metadata": {},
   "outputs": [
    {
     "name": "stdout",
     "output_type": "stream",
     "text": [
      "Optimization terminated successfully.\n",
      "         Current function value: 0.419483\n",
      "         Iterations 7\n",
      "                           Logit Regression Results                           \n",
      "==============================================================================\n",
      "Dep. Variable:              interview   No. Observations:                  226\n",
      "Model:                          Logit   Df Residuals:                      220\n",
      "Method:                           MLE   Df Model:                            5\n",
      "Date:                Mon, 27 Apr 2020   Pseudo R-squ.:                  0.3545\n",
      "Time:                        16:47:02   Log-Likelihood:                -94.803\n",
      "converged:                       True   LL-Null:                       -146.87\n",
      "Covariance Type:            nonrobust   LLR p-value:                 7.085e-21\n",
      "==============================================================================\n",
      "                 coef    std err          z      P>|z|      [0.025      0.975]\n",
      "------------------------------------------------------------------------------\n",
      "const         -9.3398      1.864     -5.011      0.000     -12.993      -5.686\n",
      "Clark          0.1404      0.459      0.306      0.760      -0.759       1.040\n",
      "CMNS           0.0753      0.422      0.178      0.858      -0.752       0.903\n",
      "gpa            0.5718      0.380      1.504      0.132      -0.173       1.317\n",
      "credits        0.0223      0.024      0.943      0.346      -0.024       0.069\n",
      "score          2.3278      0.327      7.116      0.000       1.687       2.969\n",
      "==============================================================================\n"
     ]
    }
   ],
   "source": [
    "import statsmodels.api as sm\n",
    "YVar = df[[\"interview\"]]\n",
    "XVar = sm.add_constant(df[['Clark', 'CMNS', 'gpa', 'credits', 'score']])\n",
    "LogisticModel = sm.Logit(YVar, XVar)\n",
    "results = LogisticModel.fit()\n",
    "print(results.summary())"
   ]
  },
  {
   "cell_type": "code",
   "execution_count": null,
   "metadata": {},
   "outputs": [],
   "source": []
  }
 ],
 "metadata": {
  "kernelspec": {
   "display_name": "Python 3",
   "language": "python",
   "name": "python3"
  },
  "language_info": {
   "codemirror_mode": {
    "name": "ipython",
    "version": 3
   },
   "file_extension": ".py",
   "mimetype": "text/x-python",
   "name": "python",
   "nbconvert_exporter": "python",
   "pygments_lexer": "ipython3",
   "version": "3.7.4"
  }
 },
 "nbformat": 4,
 "nbformat_minor": 2
}
