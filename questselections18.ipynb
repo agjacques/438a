{
 "cells": [
  {
   "cell_type": "code",
   "execution_count": null,
   "metadata": {},
   "outputs": [],
   "source": [
    "# we begin with importing of pandas to help with data manipulation\n",
    "import pandas as pd"
   ]
  },
  {
   "cell_type": "code",
   "execution_count": null,
   "metadata": {},
   "outputs": [],
   "source": [
    "# be sure to have the csv file questselections18.csv in the same directory as this ipynb\n",
    "df = pd.read_csv(\"questselections18.csv\")"
   ]
  },
  {
   "cell_type": "code",
   "execution_count": null,
   "metadata": {},
   "outputs": [],
   "source": [
    "# we begin with a simple examination of the first few rows of the dataframe\n",
    "# notice that there are six columns, which I define here:\n",
    "#\n",
    "# id (Ordinal) - a unique identifier for each application received by QUEST in 2018\n",
    "# note that applications that are received earlier have lower id scores\n",
    "# some id's are missing because a student may have started an application but\n",
    "# didn't submit it\n",
    "#\n",
    "# credits (Ratio) - an integer that is a count of the number of college credits an\n",
    "# applicant has when they submit their application.  Note that the number of credits\n",
    "# may be greater than zero even when a student applies in the fall semester because\n",
    "# of AP or similar credits they bring to the University of Maryland\n",
    "#\n",
    "# gpa (Ratio) - what is the current college gpa of the applicant\n",
    "#\n",
    "# school (Nominal) - this can be \"CMNS\" or \"Clark\" or \"Smith\"\n",
    "#\n",
    "# score (Interval) - what is the average score of the quality of the application based on alumni\n",
    "# and current student reviewers\n",
    "#\n",
    "# interview (Ordinal or Categorical?) - a binary variable that is '1' if the applicant is invited to come and interview\n",
    "# and '0' if the applicant is not invited\n",
    "\n",
    "df.head()"
   ]
  },
  {
   "cell_type": "code",
   "execution_count": null,
   "metadata": {},
   "outputs": [],
   "source": [
    "# descriptive statistics of the quantitative variables\n",
    "df.describe()"
   ]
  },
  {
   "cell_type": "code",
   "execution_count": null,
   "metadata": {},
   "outputs": [],
   "source": [
    "# a kernel density plot of the variable 'score\"\n",
    "# notice that it looks like a normal distribution\n",
    "df[\"score\"].plot.kde()"
   ]
  },
  {
   "cell_type": "code",
   "execution_count": null,
   "metadata": {},
   "outputs": [],
   "source": [
    "# notice from the descriptive statistics that some students have a zero gpa and some have zero credits when\n",
    "# they are applying to QUEST.  Does this seem right to you?  Let's take a look at these rows using the following\n",
    "# code\n",
    "for index, row in df.iterrows():\n",
    "    if row[\"gpa\"] == 0:\n",
    "        print (\"Applicant \", row[\"id\"], \"has a zero GPA.\")"
   ]
  },
  {
   "cell_type": "code",
   "execution_count": null,
   "metadata": {},
   "outputs": [],
   "source": [
    "# can you write some code below that prints out all of the applicant IDs if they have zero credits?"
   ]
  },
  {
   "cell_type": "code",
   "execution_count": null,
   "metadata": {},
   "outputs": [],
   "source": [
    "# how should we handle applicants that have a zero GPA or zero credits?  There is no easy solution, is there?"
   ]
  },
  {
   "cell_type": "code",
   "execution_count": null,
   "metadata": {},
   "outputs": [],
   "source": [
    "# let's now take a look at some interesting ways to examine the data.  We will start with the average GPAs\n",
    "# for the students in each of the three colleges\n",
    "boxplot = df.boxplot(column=['gpa'], by=['school'])"
   ]
  },
  {
   "cell_type": "code",
   "execution_count": null,
   "metadata": {},
   "outputs": [],
   "source": [
    "# notice that the boxplots don't look very good if you haven't taken care of the applicants with zero GPAs\n",
    "# see if you can do something to fix this and redraw the boxplot"
   ]
  }
 ],
 "metadata": {
  "kernelspec": {
   "display_name": "Python 3",
   "language": "python",
   "name": "python3"
  },
  "language_info": {
   "codemirror_mode": {
    "name": "ipython",
    "version": 3
   },
   "file_extension": ".py",
   "mimetype": "text/x-python",
   "name": "python",
   "nbconvert_exporter": "python",
   "pygments_lexer": "ipython3",
   "version": "3.6.5"
  }
 },
 "nbformat": 4,
 "nbformat_minor": 2
}
