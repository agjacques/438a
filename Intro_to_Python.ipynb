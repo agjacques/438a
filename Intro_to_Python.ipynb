{
 "cells": [
  {
   "cell_type": "code",
   "execution_count": null,
   "metadata": {
    "colab": {},
    "colab_type": "code",
    "id": "dFAnsmwMwbbF"
   },
   "outputs": [],
   "source": [
    "#import libaries we will need throughout the file\n",
    "import numpy as np\n",
    "import pandas as pd\n",
    "import matplotlib.pyplot as plt"
   ]
  },
  {
   "cell_type": "code",
   "execution_count": null,
   "metadata": {
    "colab": {},
    "colab_type": "code",
    "id": "I_EVlbMxEoiz"
   },
   "outputs": [],
   "source": [
    "'''\n",
    "read the file in from your local computer into a pandas data frame. Each row is one observation and each column is a variable\n",
    "'''\n",
    "vacationdata = pd.read_csv('Vacation Data.csv')"
   ]
  },
  {
   "cell_type": "code",
   "execution_count": null,
   "metadata": {
    "colab": {
     "base_uri": "https://localhost:8080/",
     "height": 298
    },
    "colab_type": "code",
    "id": "tRy81AZYEx7y",
    "outputId": "49b9e4d5-70b4-4431-8190-d1684cf39862"
   },
   "outputs": [],
   "source": [
    "#see (and print) all variables in the dataset\n",
    "origcolumnnames = vacationdata.columns\n",
    "origcolumnnames"
   ]
  },
  {
   "cell_type": "code",
   "execution_count": null,
   "metadata": {
    "colab": {
     "base_uri": "https://localhost:8080/",
     "height": 246
    },
    "colab_type": "code",
    "id": "0vMGJnaBHefW",
    "outputId": "63f40ea9-292f-4961-a8e9-6ee2c9f0cca1"
   },
   "outputs": [],
   "source": [
    "#Use a regular expression to remove the leading text from variable names (don't worry too much about how this works)\n",
    "newcolumnnames = origcolumnnames.str.replace(\"Q\\d+:.\", \"\")\n",
    "\n",
    "'''\n",
    "rename the dataset columns to be our new, more descriptive column names \n",
    "(note this doesn't change the file stored on your computer, just how we look at it in python)\n",
    "'''\n",
    "vacationdata.columns = newcolumnnames\n",
    "\n",
    "vacationdata.columns"
   ]
  },
  {
   "cell_type": "code",
   "execution_count": null,
   "metadata": {
    "colab": {
     "base_uri": "https://localhost:8080/",
     "height": 296
    },
    "colab_type": "code",
    "id": "eV0qH69-IdaZ",
    "outputId": "1aab1009-1122-4107-e8df-8b5e5e46a01b"
   },
   "outputs": [],
   "source": [
    "'''\n",
    "Look at the counts of observations based on characteristics of interest. This is called a cross-tabulation\n",
    "(the margins paramter gives us the subtotal column). \n",
    "What does this visualization tell youabout the data?\n",
    "'''\n",
    "vacationbyseason = pd.crosstab(vacationdata[\"Vacation City\"], vacationdata[\"Season\"], margins=True, margins_name=\"Subtotal\")\n",
    "vacationbyseason"
   ]
  },
  {
   "cell_type": "code",
   "execution_count": null,
   "metadata": {
    "colab": {
     "base_uri": "https://localhost:8080/",
     "height": 34
    },
    "colab_type": "code",
    "id": "uWoEPmOTL36A",
    "outputId": "a56d688f-3a95-456c-f156-4222c235c383"
   },
   "outputs": [],
   "source": [
    "import scipy.stats as st\n",
    "#create cross-tab without margins\n",
    "vacationbyseasonwithoutsubtotal = pd.crosstab(vacationdata[\"Vacation City\"], vacationdata[\"Season\"])\n",
    "\n",
    "#Calculate statistics for the chi^2 goodness of fit test - used for categorical data to see if each cell matches what we expect\n",
    "\n",
    "'''\n",
    "C in this case is the aggregate test statistic (short for chi^2). \n",
    "    If it's sufficiently large (based on the degrees of freedom), \n",
    "    then this data is very unlikely to be seen in the wild given our expectation\n",
    "    \n",
    "p is the inverse of C \n",
    "    e.g. what is the probability [0-1] of seeing this data in the wild given our initial hypothesis \n",
    "    that data matches our expectation. THe smaller the value, the less likely it is to be seen (and we can therefore\n",
    "    be statistically confident that something is different about this data)\n",
    "    \n",
    "dof is the degrees of freedom (number of independent variables). \n",
    "    Each statistical test (t,z, chi^2) has a different formula on how to calculate this\n",
    "\n",
    "expected is the matrix showing the expected value for each (season, city) pair. \n",
    "    This is used in calculating the chi^2 value\n",
    "'''\n",
    "c, p, dof, expected = st.chi2_contingency(vacationbyseasonwithoutsubtotal)\n",
    "print('chi^2=%s p=%s degrees of freedom=%s' % (c,p,dof))"
   ]
  },
  {
   "cell_type": "code",
   "execution_count": null,
   "metadata": {
    "colab": {
     "base_uri": "https://localhost:8080/",
     "height": 853
    },
    "colab_type": "code",
    "id": "nLp3nleoOWE-",
    "outputId": "f0d753a5-8453-48ca-8aa2-398d62581658",
    "scrolled": true
   },
   "outputs": [],
   "source": [
    "#Here we make a cross-tab on 3 values instead (specify city and season on the left, cost on the top)\n",
    "vacationseasoncost = pd.crosstab([vacationdata[\"Vacation City\"],vacationdata[\"Season\"]], vacationdata.iloc[:,30], colnames=[\"cost\"], margins=True)\n",
    "vacationseasoncost"
   ]
  },
  {
   "cell_type": "code",
   "execution_count": null,
   "metadata": {
    "colab": {
     "base_uri": "https://localhost:8080/",
     "height": 34
    },
    "colab_type": "code",
    "id": "wUwGfW3sSBQc",
    "outputId": "5e89de4f-beb1-4d12-9d31-de3602d86312"
   },
   "outputs": [],
   "source": [
    "#just as before, we can calculate the relevant chi^squared value\n",
    "vacationseasoncostwithoutsubtotal = pd.crosstab([vacationdata[\"Vacation City\"],vacationdata[\"Season\"]], vacationdata.iloc[:,30], colnames=[\"cost\"])\n",
    "\n",
    "c, p, dof, expected = st.chi2_contingency(vacationseasoncostwithoutsubtotal)\n",
    "print('chi^2=%s p=%s degrees of freedom=%s' % (c,p,dof))"
   ]
  },
  {
   "cell_type": "code",
   "execution_count": null,
   "metadata": {
    "colab": {
     "base_uri": "https://localhost:8080/",
     "height": 54
    },
    "colab_type": "code",
    "id": "JOuvU17lTeSq",
    "outputId": "0cfd36af-a11a-468c-e445-9916a0dd908b"
   },
   "outputs": [],
   "source": [
    "#the describe function gives us several descriptive statistics on a column\n",
    "\n",
    "st.describe(vacationdata[\"Trip Duration in Days\"])"
   ]
  },
  {
   "cell_type": "code",
   "execution_count": null,
   "metadata": {
    "colab": {
     "base_uri": "https://localhost:8080/",
     "height": 34
    },
    "colab_type": "code",
    "id": "UH6MfjZUUwg7",
    "outputId": "75ab8948-554d-473a-d49a-b40144f63a88"
   },
   "outputs": [],
   "source": [
    "#You can also call any descriptive stat function manually on the series (note std dev is the square root of variance)\n",
    "median = vacationdata[\"Trip Duration in Days\"].median()\n",
    "stddev = vacationdata[\"Trip Duration in Days\"].std()\n",
    "\n",
    "print(\"median = %s standard deviation=%s\" %(median, stddev))"
   ]
  },
  {
   "cell_type": "code",
   "execution_count": null,
   "metadata": {
    "colab": {
     "base_uri": "https://localhost:8080/",
     "height": 122
    },
    "colab_type": "code",
    "id": "lsUSmuDiVzKR",
    "outputId": "3d32ba19-d383-4ef7-c622-fd2eaaf29079"
   },
   "outputs": [],
   "source": [
    "#box plot data. In this case, 6 is greater than 25% of the data and 14 is the max value \n",
    "vacationdata[\"Trip Duration in Days\"].quantile([0,.25,.5,.75,1])"
   ]
  },
  {
   "cell_type": "code",
   "execution_count": null,
   "metadata": {
    "colab": {
     "base_uri": "https://localhost:8080/",
     "height": 286
    },
    "colab_type": "code",
    "id": "gP5B_ormd9YC",
    "outputId": "b023b96b-77ad-4f31-f75f-5f831e0b2649"
   },
   "outputs": [],
   "source": [
    "#box plot visualization of multiple columns side by side. What does this tell you?\n",
    "#can call directly from pandas, calls matplotlib under the hood\n",
    "vacationdata.boxplot(column=[\"Trip Duration in Days\", \"Age of Traveler\"])"
   ]
  },
  {
   "cell_type": "code",
   "execution_count": null,
   "metadata": {
    "colab": {
     "base_uri": "https://localhost:8080/",
     "height": 316
    },
    "colab_type": "code",
    "id": "4j2BKUKfdtJv",
    "outputId": "9b1b53b2-973c-48bc-955a-60a96bb631a6"
   },
   "outputs": [],
   "source": [
    "#histogram specifying custom bins\n",
    "vacationdata.hist([\"Age of Traveler\"], bins=range(10,100,2))"
   ]
  },
  {
   "cell_type": "code",
   "execution_count": null,
   "metadata": {
    "colab": {
     "base_uri": "https://localhost:8080/",
     "height": 334
    },
    "colab_type": "code",
    "id": "4hJ2L-zCRDmT",
    "outputId": "686a53e5-2141-42b4-dc3a-f8e567a8239d"
   },
   "outputs": [],
   "source": [
    "#histogram with auto bins, multiple plots\n",
    "vacationdata.hist([\"Trip Duration in Days\", \"Number of Travelers\"])"
   ]
  },
  {
   "cell_type": "code",
   "execution_count": null,
   "metadata": {
    "colab": {},
    "colab_type": "code",
    "id": "ajpVjuzldwfL"
   },
   "outputs": [],
   "source": [
    "#correlation matrix (how much does data trend in the same direction for the variables of the associated row and col)\n",
    "\n",
    "#why are all the diagonal values 1?\n",
    "vacationdata.corr()"
   ]
  },
  {
   "cell_type": "code",
   "execution_count": null,
   "metadata": {
    "colab": {
     "base_uri": "https://localhost:8080/",
     "height": 31
    },
    "colab_type": "code",
    "id": "zPzUolyESH2f",
    "outputId": "aef779e9-a57f-44c8-add1-6ea35ed06c13"
   },
   "outputs": [],
   "source": [
    "#let's look at the correlation between these two values\n",
    "vacationdata[[\"Airfare Cost\",\"Total Trip Cost (includes air)\"]].corr()"
   ]
  },
  {
   "cell_type": "code",
   "execution_count": null,
   "metadata": {
    "colab": {
     "base_uri": "https://localhost:8080/",
     "height": 738
    },
    "colab_type": "code",
    "id": "ayk9Gf3YUsqw",
    "outputId": "972f03ce-34b1-4ad7-e562-cc9c9e65cb8a"
   },
   "outputs": [],
   "source": [
    "#That's weird, why didn't it show? Let's look at the data types (since correlation only works on numeric)\n",
    "vacationdata.dtypes"
   ]
  },
  {
   "cell_type": "code",
   "execution_count": null,
   "metadata": {
    "colab": {
     "base_uri": "https://localhost:8080/",
     "height": 493
    },
    "colab_type": "code",
    "id": "WCkPxHhaVoxM",
    "outputId": "01930758-cfa5-4b4b-908c-8d1f6842cb27"
   },
   "outputs": [],
   "source": [
    "#Ok, so they're not numbers. Let's tell pandas to treat them as numbers using the to_numeric function\n",
    "vacationdata[[\"Airfare Cost\", \"Total Trip Cost (includes air)\"]] = vacationdata[[\"Airfare Cost\", \"Total Trip Cost (includes air)\"]].apply(pd.to_numeric)"
   ]
  },
  {
   "cell_type": "code",
   "execution_count": null,
   "metadata": {
    "colab": {},
    "colab_type": "code",
    "id": "XExjcphmVlyw"
   },
   "outputs": [],
   "source": [
    "#no wonder we can't compute a correlation, it has extra symbols in there! Python isn't smart enough to remove them\n",
    "#on its own. Let's use the string replace function to remove the bad symbols with nothing (the empty string)\n",
    "# and use the apply function to call string replace on every row in the data frame\n",
    "vacationdata[[\"Airfare Cost\", \"Total Trip Cost (includes air)\"]] = vacationdata[[\"Airfare Cost\", \"Total Trip Cost (includes air)\"]].apply(lambda x: x.str.replace('$','')).apply(lambda x: x.str.replace(',','')).astype(np.int64)"
   ]
  },
  {
   "cell_type": "code",
   "execution_count": null,
   "metadata": {
    "colab": {
     "base_uri": "https://localhost:8080/",
     "height": 110
    },
    "colab_type": "code",
    "id": "c_ScrFvGVvU0",
    "outputId": "eec6a248-b7b1-4af9-8c17-6a0a19b5c1ee"
   },
   "outputs": [],
   "source": [
    "#now we should be able to create a correlation!\n",
    "vacationdata[[\"Airfare Cost\",\"Total Trip Cost (includes air)\"]].corr(\"pearson\")"
   ]
  },
  {
   "cell_type": "code",
   "execution_count": null,
   "metadata": {
    "colab": {
     "base_uri": "https://localhost:8080/",
     "height": 295
    },
    "colab_type": "code",
    "id": "YymERxLWdx2S",
    "outputId": "c98604cb-ad0a-4a1b-9195-c50f51602473"
   },
   "outputs": [],
   "source": [
    "#scatterplot\n",
    "plt.scatter(vacationdata[\"Airfare Cost\"], vacationdata[\"Total Trip Cost (includes air)\"],  alpha=0.5)\n",
    "plt.title('Cost relationship')\n",
    "plt.xlabel('Airfare cost')\n",
    "plt.ylabel('Total cost')\n",
    "plt.show()"
   ]
  },
  {
   "cell_type": "code",
   "execution_count": null,
   "metadata": {
    "colab": {
     "base_uri": "https://localhost:8080/",
     "height": 318
    },
    "colab_type": "code",
    "id": "V-vPwfQxd4FM",
    "outputId": "0ebba24a-c6b9-4b46-98ee-fa8da26ef0e4"
   },
   "outputs": [],
   "source": [
    "#1-d bar chart\n",
    "charts = vacationdata[\"Season\"].value_counts()\n",
    "#charts.columns\n",
    "charts.plot.bar()"
   ]
  },
  {
   "cell_type": "code",
   "execution_count": null,
   "metadata": {
    "colab": {},
    "colab_type": "code",
    "id": "yOZU8qcgd6T_"
   },
   "outputs": [],
   "source": [
    "#stacked bar chart\n",
    "\n",
    "#first, let's group the data to get a bit more granular count. This should look similar to our first cross-tab\n",
    "#, just laid out differently\n",
    "groupedcitydata = vacationdata[[\"Season\", \"Vacation City\"]].groupby([\"Season\", \"Vacation City\"]).size().reset_index(name='counts')\n",
    "groupedcitydata\n",
    "\n"
   ]
  },
  {
   "cell_type": "code",
   "execution_count": null,
   "metadata": {
    "colab": {
     "base_uri": "https://localhost:8080/",
     "height": 140
    },
    "colab_type": "code",
    "id": "PaJQdqZ2n8hj",
    "outputId": "0633f5dd-d92e-42ca-87a3-f9f8f01c6fe6"
   },
   "outputs": [],
   "source": [
    "#make a list of length 6 (the number of cities we have in the dataset)\n",
    "ind = np.arange(6)\n",
    "\n",
    "#for each row where the season had the value fall, what is the count?\n",
    "fallcounts = groupedcitydata.loc[groupedcitydata[\"Season\"] == \"Fall\", \"counts\"]\n",
    "fallcounts"
   ]
  },
  {
   "cell_type": "code",
   "execution_count": null,
   "metadata": {
    "colab": {
     "base_uri": "https://localhost:8080/",
     "height": 281
    },
    "colab_type": "code",
    "id": "JxWws-dvn5G5",
    "outputId": "ce1dedce-4952-461b-8838-3e5a0bdf181b"
   },
   "outputs": [],
   "source": [
    "#continue to do this for each season\n",
    "springcounts = groupedcitydata.loc[groupedcitydata[\"Season\"] == \"Spring\", \"counts\"]\n",
    "\n",
    "summercounts = groupedcitydata.loc[groupedcitydata[\"Season\"] == \"Summer\", \"counts\"]\n",
    "\n",
    "wintercounts = groupedcitydata.loc[groupedcitydata[\"Season\"] == \"Winter\", \"counts\"]\n",
    "\n",
    "\n",
    "#sometimes numpy and pandas don't always play nicely together. In this case, in order to use numpy's add function,\n",
    "# call the .values property on the Pandas Series (1-D dataframe) to get a numpy array directly\n",
    "fallbar = plt.bar(ind, fallcounts)\n",
    "winterbar = plt.bar(ind, wintercounts.values,bottom=fallcounts.values)\n",
    "springbar = plt.bar(ind, springcounts.values, bottom=np.add(fallcounts.values,wintercounts.values))\n",
    "summerbar = plt.bar(ind, summercounts.values, bottom=np.add(np.add(wintercounts.values,springcounts.values),fallcounts.values))\n",
    "\n",
    "\n",
    "plt.ylabel('Freq')\n",
    "plt.title('Travel Destination by season')\n",
    "#we know this is the order from hwow the grouped dataset looks\n",
    "plt.xticks(ind, ('Capetown', 'London', 'Moscow', 'Paris', 'Sydney', 'Tokyo'))\n",
    "plt.yticks(np.arange(0, 111, 10))\n",
    "plt.legend((fallbar[0], winterbar[0], springbar[0], summerbar[0]), ('Fall', 'Winter', 'Spring', 'Summer'))\n",
    "plt.show()\n",
    "plt.show()\n"
   ]
  }
 ],
 "metadata": {
  "colab": {
   "name": "Intro to Python.ipynb",
   "provenance": []
  },
  "kernelspec": {
   "display_name": "Python 3",
   "language": "python",
   "name": "python3"
  },
  "language_info": {
   "codemirror_mode": {
    "name": "ipython",
    "version": 3
   },
   "file_extension": ".py",
   "mimetype": "text/x-python",
   "name": "python",
   "nbconvert_exporter": "python",
   "pygments_lexer": "ipython3",
   "version": "3.7.3"
  }
 },
 "nbformat": 4,
 "nbformat_minor": 1
}
