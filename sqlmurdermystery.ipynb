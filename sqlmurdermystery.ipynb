{
 "cells": [
  {
   "cell_type": "code",
   "execution_count": null,
   "metadata": {},
   "outputs": [],
   "source": [
    "import sqlite3 # this is a new library that we are using to work with sql databases\n",
    "import pandas as pd"
   ]
  },
  {
   "cell_type": "code",
   "execution_count": null,
   "metadata": {},
   "outputs": [],
   "source": [
    "con = sqlite3.connect('./sql-murder-mystery.db') # importing an sql database\n",
    "cur = con.cursor() # setting a cursor to the database that we read in"
   ]
  },
  {
   "cell_type": "code",
   "execution_count": null,
   "metadata": {},
   "outputs": [],
   "source": [
    "# we know that the murder took place on Jan. 15, 2018\n",
    "SQL_Query = pd.read_sql_query(\"SELECT description FROM crime_scene_report WHERE date=20180115 and city='SQL City'\", con)\n",
    "df = pd.DataFrame(SQL_Query, columns=['description'])\n",
    "\n",
    "for index, row in df.iterrows():\n",
    "    print(row['description'])"
   ]
  },
  {
   "cell_type": "code",
   "execution_count": null,
   "metadata": {},
   "outputs": [],
   "source": [
    "# the first piece of evidence is the last house on Northwestern Dr\n",
    "SQL_Query = pd.read_sql_query(\"SELECT id FROM person WHERE address_street_name='Northwestern Dr' ORDER BY address_number DESC\", con)\n",
    "df = pd.DataFrame(SQL_Query, columns=['id'])\n",
    "\n",
    "df.head(1)"
   ]
  },
  {
   "cell_type": "code",
   "execution_count": null,
   "metadata": {},
   "outputs": [],
   "source": [
    "# the second piece of evidence is Annabel on Franklin Ave\n",
    "SQL_Query = pd.read_sql_query(\"SELECT id FROM person WHERE address_street_name='Franklin Ave' and name LIKE '%Annabel%'\", con)\n",
    "df = pd.DataFrame(SQL_Query, columns=['id'])\n",
    "\n",
    "df.head()"
   ]
  },
  {
   "cell_type": "code",
   "execution_count": null,
   "metadata": {},
   "outputs": [],
   "source": [
    "# we now can take a look at the eyewitness acounts from where\n",
    "# the id=14887 or id=16371\n",
    "SQL_Query = pd.read_sql_query(\"SELECT transcript FROM interview WHERE person_id=14887 or person_id=16371\", con)\n",
    "df = pd.DataFrame(SQL_Query, columns=['transcript'])\n",
    "\n",
    "for index, row in df.iterrows():\n",
    "    print(row['transcript'])"
   ]
  },
  {
   "cell_type": "code",
   "execution_count": null,
   "metadata": {},
   "outputs": [],
   "source": [
    "# we now can take a look at gym checkins on Jan. 9th for members\n",
    "# with 48Z in their member number\n",
    "SQL_Query = pd.read_sql_query(\"SELECT membership_id FROM get_fit_now_check_in WHERE membership_id LIKE '%48Z%' and check_in_date=20180109\", con)\n",
    "df = pd.DataFrame(SQL_Query, columns=['membership_id'])\n",
    "\n",
    "for index, row in df.iterrows():\n",
    "    print(row['membership_id'])\n",
    "\n"
   ]
  },
  {
   "cell_type": "code",
   "execution_count": null,
   "metadata": {},
   "outputs": [],
   "source": [
    "# now that we are down to our two last suspects, we can use their\n",
    "# member id to find their person_id\n",
    "SQL_Query = pd.read_sql_query(\"SELECT person_id, name FROM get_fit_now_member WHERE id='48Z7A' or id='48Z55'\", con)\n",
    "df = pd.DataFrame(SQL_Query, columns=['person_id', 'name'])\n",
    "\n",
    "print(df)"
   ]
  },
  {
   "cell_type": "code",
   "execution_count": null,
   "metadata": {},
   "outputs": [],
   "source": [
    "# need to go from the person_id to a license id\n",
    "SQL_Query = pd.read_sql_query(\"SELECT id, license_id FROM person WHERE id=67318 or id=28819\", con)\n",
    "df = pd.DataFrame(SQL_Query, columns=['id', 'license_id'])\n",
    "\n",
    "print(df)"
   ]
  },
  {
   "cell_type": "code",
   "execution_count": null,
   "metadata": {},
   "outputs": [],
   "source": [
    "# now let's see what cars these two people drive\n",
    "SQL_Query = pd.read_sql_query(\"SELECT id, plate_number FROM drivers_license WHERE id=173289 or id=423327\", con)\n",
    "df = pd.DataFrame(SQL_Query, columns=['id', 'plate_number'])\n",
    "\n",
    "print(df)"
   ]
  },
  {
   "cell_type": "code",
   "execution_count": null,
   "metadata": {},
   "outputs": [],
   "source": [
    "# now we can see that one of our two suspects does drive a car\n",
    "# with a license plate that includes H42W!  We found the murderer!\n",
    "# it is the person with drivers license 423327, a person id of\n",
    "# 67318, and the name Jeremy Bowers"
   ]
  },
  {
   "cell_type": "code",
   "execution_count": null,
   "metadata": {},
   "outputs": [],
   "source": []
  }
 ],
 "metadata": {
  "kernelspec": {
   "display_name": "Python 3",
   "language": "python",
   "name": "python3"
  },
  "language_info": {
   "codemirror_mode": {
    "name": "ipython",
    "version": 3
   },
   "file_extension": ".py",
   "mimetype": "text/x-python",
   "name": "python",
   "nbconvert_exporter": "python",
   "pygments_lexer": "ipython3",
   "version": "3.8.3"
  }
 },
 "nbformat": 4,
 "nbformat_minor": 4
}
