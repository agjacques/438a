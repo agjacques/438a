{
 "cells": [
  {
   "cell_type": "code",
   "execution_count": null,
   "metadata": {},
   "outputs": [],
   "source": [
    "# import libraries\n",
    "import pandas as pd\n",
    "import numpy as np\n",
    "import matplotlib.pyplot as plt"
   ]
  },
  {
   "cell_type": "code",
   "execution_count": null,
   "metadata": {},
   "outputs": [],
   "source": [
    "# read in the Tesla 2019 time series data\n",
    "df_tesla = pd.read_csv('tesla2019.csv')\n",
    "df_tesla.head()"
   ]
  },
  {
   "cell_type": "code",
   "execution_count": null,
   "metadata": {},
   "outputs": [],
   "source": [
    "# read in the Ford 2019 time series data\n",
    "df_ford = pd.read_csv('ford2019.csv')\n",
    "df_ford.head()"
   ]
  },
  {
   "cell_type": "code",
   "execution_count": null,
   "metadata": {},
   "outputs": [],
   "source": [
    "# let's take a look at the Tesla stock price\n",
    "df_tesla['Close'].plot(label='TSLA')"
   ]
  },
  {
   "cell_type": "code",
   "execution_count": null,
   "metadata": {},
   "outputs": [],
   "source": [
    "# let's now take a look at the Ford stock price\n",
    "df_ford['Close'].plot(label='F')"
   ]
  },
  {
   "cell_type": "code",
   "execution_count": null,
   "metadata": {},
   "outputs": [],
   "source": [
    "# notice how these two stock prices have very different y-axes\n",
    "# there are a few ways that we can put them on the same graph\n",
    "# the first is to have two y axes\n",
    "fig,ax = plt.subplots()\n",
    "ax.plot(df_tesla['Close'], color='blue')\n",
    "ax.set_ylabel(\"Tesla Stock Price\",color=\"blue\")\n",
    "ax2=ax.twinx()\n",
    "ax2.plot(df_ford['Close'], color='red')\n",
    "ax2.set_ylabel(\"Ford Stock Price\",color=\"red\")\n",
    "plt.show()"
   ]
  },
  {
   "cell_type": "code",
   "execution_count": null,
   "metadata": {},
   "outputs": [],
   "source": [
    "# another other way is to put\n",
    "# them in the same units like market capitalization, which is the\n",
    "# stock price times the number of outstanding shares\n",
    "# Ford has 4 billion outstanding shares\n",
    "# Tesla has 184.4 million outstanding shares\n",
    "shares_tesla = 184400000\n",
    "df_tesla['marketcap'] = shares_tesla*df_tesla['Close']\n",
    "df_tesla['marketcap'].plot(label='TSLA')\n",
    "\n",
    "shares_ford = 4000000000\n",
    "df_ford['marketcap'] = shares_ford*df_ford['Close']\n",
    "df_ford['marketcap'].plot(label='F')\n",
    "\n",
    "plt.legend()"
   ]
  },
  {
   "cell_type": "code",
   "execution_count": null,
   "metadata": {},
   "outputs": [],
   "source": [
    "# lets now take a look at the stock volume for these two stocks\n",
    "df_tesla['Volume'].plot(label='TSLA')\n",
    "df_ford['Volume'].plot(label='F')\n",
    "plt.legend()"
   ]
  },
  {
   "cell_type": "code",
   "execution_count": null,
   "metadata": {},
   "outputs": [],
   "source": []
  }
 ],
 "metadata": {
  "kernelspec": {
   "display_name": "Python 3",
   "language": "python",
   "name": "python3"
  },
  "language_info": {
   "codemirror_mode": {
    "name": "ipython",
    "version": 3
   },
   "file_extension": ".py",
   "mimetype": "text/x-python",
   "name": "python",
   "nbconvert_exporter": "python",
   "pygments_lexer": "ipython3",
   "version": "3.6.5"
  }
 },
 "nbformat": 4,
 "nbformat_minor": 2
}
