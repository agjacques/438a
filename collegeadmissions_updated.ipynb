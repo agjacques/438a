{
 "cells": [
  {
   "cell_type": "code",
   "execution_count": null,
   "metadata": {},
   "outputs": [],
   "source": [
    "# these are our usual librairies\n",
    "# be sure that these load properly\n",
    "# if they don't, you may have to install the libraries\n",
    "# recall that you can install them using commands similar to:\n",
    "# !pip install pandas\n",
    "# !pip install statsmodels\n",
    "import pandas as pd\n",
    "import statsmodels.api as sm\n",
    "import numpy as np\n",
    "import matplotlib.pyplot as plt"
   ]
  },
  {
   "cell_type": "code",
   "execution_count": null,
   "metadata": {},
   "outputs": [],
   "source": [
    "# be sure to have the csv file collegeadmissions.csv in the same directory as this ipynb\n",
    "df = pd.read_csv(\"collegeadmissions.csv\")"
   ]
  },
  {
   "cell_type": "code",
   "execution_count": null,
   "metadata": {},
   "outputs": [],
   "source": [
    "# some of the column heading names don't have the best format so we will fix this here\n",
    "df.columns = df.columns.str.strip().str.lower().str.replace(' ', '_').str.replace('(', '').str.replace(')', '').str.replace('-', '_')\n",
    "# df.iloc[:,90:100]\n",
    "df.columns[90:100]"
   ]
  },
  {
   "cell_type": "code",
   "execution_count": null,
   "metadata": {},
   "outputs": [],
   "source": [
    "df.describe()"
   ]
  },
  {
   "cell_type": "code",
   "execution_count": null,
   "metadata": {},
   "outputs": [],
   "source": [
    "# there is a lot of data in this csv file\n",
    "# instead of keeping all of it, let's start by just selecting the information\n",
    "# that we want to look at by taking the college name so we know what the data\n",
    "# represents and 11 of the numerical columns and then reducing\n",
    "# the dataframe to only rows where all 11 observations are avaialable\n",
    "#\n",
    "# the first column is:\n",
    "# Name - the name of the college or university\n",
    "#\n",
    "# the other 11 columns are:\n",
    "# Applicants total - how many applications\n",
    "# Admissions total - how many admissions\n",
    "# Enrolled total - how many of the admittes students chose the university or college\n",
    "# ACT Composite 75th percentile score - ACT Score\n",
    "# Estimated undergraduate enrollment, total\n",
    "# Total price for in-state students living on campus 2013-14\n",
    "# Total price for out-of-state students living on campus 2013-14\n",
    "# Percent of total enrollment that are White\n",
    "# Percent of undergraduate enrollment that are women\n",
    "# Graduation rate - Bachelor degree within 5 years, total\n",
    "# Percent of freshmen receiving any financial aid\n",
    "\n",
    "df = df[['name', 'applicants_total', 'admissions_total',\n",
    "         'enrolled_total',\n",
    "         'act_composite_75th_percentile_score',\n",
    "         'estimated_undergraduate_enrollment,_total',\n",
    "         'total_price_for_in_state_students_living_on_campus_2013_14',\n",
    "         'total_price_for_out_of_state_students_living_on_campus_2013_14',\n",
    "         'percent_of_total_enrollment_that_are_white',\n",
    "         'percent_of_undergraduate_enrollment_that_are_women',\n",
    "         'graduation_rate___bachelor_degree_within_5_years,_total',\n",
    "         'percent_of_freshmen_receiving_any_financial_aid',\n",
    "        'percent_of_freshmen_receiving_pell_grants']]\n",
    "df=df.dropna() # this drops the rows that have missing values\n",
    "df.describe()"
   ]
  },
  {
   "cell_type": "code",
   "execution_count": null,
   "metadata": {},
   "outputs": [],
   "source": [
    "# lets's start with a correlation matrix\n",
    "df.corr()"
   ]
  },
  {
   "cell_type": "code",
   "execution_count": null,
   "metadata": {},
   "outputs": [],
   "source": [
    "# a kernel density plot may help too\n",
    "df[\"estimated_undergraduate_enrollment,_total\"].plot.kde()"
   ]
  },
  {
   "cell_type": "code",
   "execution_count": null,
   "metadata": {},
   "outputs": [],
   "source": [
    "# some schools look to be really large or really small\n",
    "# how can we see this data?\n",
    "df.sort_values(by=[\"estimated_undergraduate_enrollment,_total\"])"
   ]
  },
  {
   "cell_type": "code",
   "execution_count": null,
   "metadata": {},
   "outputs": [],
   "source": [
    "# next let's look at some scatter plots\n",
    "df.plot.scatter(x='percent_of_freshmen_receiving_pell_grants',y='graduation_rate___bachelor_degree_within_5_years,_total')\n",
    "x=df['percent_of_freshmen_receiving_pell_grants']\n",
    "y=df['graduation_rate___bachelor_degree_within_5_years,_total']\n",
    "m, b = np.polyfit(x,y, 1)\n",
    "plt.plot(x, m*x + b)\n",
    "m"
   ]
  },
  {
   "cell_type": "code",
   "execution_count": null,
   "metadata": {},
   "outputs": [],
   "source": [
    "# how about an OLS?\n",
    "YVar2 = df[[\"graduation_rate___bachelor_degree_within_5_years,_total\"]]\n",
    "XVar2 = sm.add_constant(df[['percent_of_freshmen_receiving_pell_grants']])\n",
    "LinearModel2 = sm.OLS(YVar2, XVar2)\n",
    "results = LinearModel2.fit()\n",
    "print(results.summary())\n"
   ]
  },
  {
   "cell_type": "code",
   "execution_count": null,
   "metadata": {},
   "outputs": [],
   "source": [
    "# how about an OLS?\n",
    "YVar = df[[\"graduation_rate___bachelor_degree_within_5_years,_total\"]]\n",
    "XVar = sm.add_constant(df[['applicants_total', 'admissions_total',\n",
    "         'enrolled_total',\n",
    "         'act_composite_75th_percentile_score',\n",
    "         'estimated_undergraduate_enrollment,_total',\n",
    "         'total_price_for_in_state_students_living_on_campus_2013_14',\n",
    "         'total_price_for_out_of_state_students_living_on_campus_2013_14',\n",
    "         'percent_of_total_enrollment_that_are_white',\n",
    "         'percent_of_undergraduate_enrollment_that_are_women',\n",
    "         'percent_of_freshmen_receiving_any_financial_aid',\n",
    "          'percent_of_freshmen_receiving_pell_grants']])\n",
    "LinearModel = sm.OLS(YVar, XVar).fit()\n",
    "print(LinearModel.summary())"
   ]
  },
  {
   "cell_type": "code",
   "execution_count": null,
   "metadata": {},
   "outputs": [],
   "source": [
    "# Let's plot the residuals to see how they are distributed\n",
    "LinearModel.resid.plot.kde()"
   ]
  },
  {
   "cell_type": "code",
   "execution_count": null,
   "metadata": {},
   "outputs": [],
   "source": [
    "# let's take a look at the residuals after mapping them to the names\n",
    "# of the colleges or universities\n",
    "residuals = pd.concat([df['name'], LinearModel.resid], axis=1)\n",
    "residuals.sort_values(by=[0])"
   ]
  },
  {
   "cell_type": "code",
   "execution_count": null,
   "metadata": {},
   "outputs": [],
   "source": [
    "LinearModel.resid"
   ]
  },
  {
   "cell_type": "code",
   "execution_count": null,
   "metadata": {},
   "outputs": [],
   "source": [
    "# residuals\n",
    "residuals[[0]]<20"
   ]
  },
  {
   "cell_type": "code",
   "execution_count": null,
   "metadata": {},
   "outputs": [],
   "source": []
  }
 ],
 "metadata": {
  "kernelspec": {
   "display_name": "Python 3",
   "language": "python",
   "name": "python3"
  },
  "language_info": {
   "codemirror_mode": {
    "name": "ipython",
    "version": 3
   },
   "file_extension": ".py",
   "mimetype": "text/x-python",
   "name": "python",
   "nbconvert_exporter": "python",
   "pygments_lexer": "ipython3",
   "version": "3.7.4"
  }
 },
 "nbformat": 4,
 "nbformat_minor": 2
}
