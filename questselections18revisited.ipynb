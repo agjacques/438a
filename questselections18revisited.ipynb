{
 "cells": [
  {
   "cell_type": "code",
   "execution_count": null,
   "metadata": {},
   "outputs": [],
   "source": [
    "!pip install --upgrade pip # just in case you need to install or upgrade pip\n",
    "!pip install statsmodels --upgrade # installing statsmodels if you don't have it already\n",
    "import pandas as pd # we've seen pandas before\n",
    "import statsmodels.api as sm # this is the modeling library that we will use"
   ]
  },
  {
   "cell_type": "code",
   "execution_count": null,
   "metadata": {},
   "outputs": [],
   "source": [
    "# be sure to have the csv file questselections18.csv in the same directory as this ipynb\n",
    "df = pd.read_csv(\"questselections18.csv\")"
   ]
  },
  {
   "cell_type": "code",
   "execution_count": null,
   "metadata": {},
   "outputs": [],
   "source": [
    "# we begin with a simple examination of the first few rows of the dataframe\n",
    "# notice that there are six columns, which I define here:\n",
    "#\n",
    "# id (Ordinal) - a unique identifier for each application received by QUEST in 2018\n",
    "# note that applications that are received earlier have lower id scores\n",
    "# some id's are missing because a student may have started an application but\n",
    "# didn't submit it\n",
    "#\n",
    "# credits (Ratio) - an integer that is a count of the number of college credits an\n",
    "# applicant has when they submit their application.  Note that the number of credits\n",
    "# may be greater than zero even when a student applies in the fall semester because\n",
    "# of AP or similar credits they bring to the University of Maryland\n",
    "#\n",
    "# gpa (Ratio) - what is the current college gpa of the applicant\n",
    "#\n",
    "# school (Nominal) - this can be \"CMNS\" or \"Clark\" or \"Smith\"\n",
    "#\n",
    "# score (Interval) - what is the average score of the quality of the application based on alumni\n",
    "# and current student reviewers\n",
    "#\n",
    "# interview (Ordinal or Categorical?) - a binary variable that is '1' if the applicant is invited to come and interview\n",
    "# and '0' if the applicant is not invited\n",
    "\n",
    "df.head()"
   ]
  },
  {
   "cell_type": "code",
   "execution_count": null,
   "metadata": {},
   "outputs": [],
   "source": [
    "# descriptive statistics of the quantitative variables\n",
    "df.describe()"
   ]
  },
  {
   "cell_type": "code",
   "execution_count": null,
   "metadata": {},
   "outputs": [],
   "source": [
    "# you might recall that there are xome GPAs reported as zero (3 of them)\n",
    "# you can see this from the descriptive statistics above\n",
    "# therefore, we want to drop the rows where this is the case\n",
    "df=df[df['gpa'] != 0]\n",
    "df.describe() # we can see that the min gpa is no longer zero"
   ]
  },
  {
   "cell_type": "code",
   "execution_count": null,
   "metadata": {},
   "outputs": [],
   "source": [
    "# let's do an OLS regression\n",
    "YVar = df[[\"score\"]] # we set up the dependent variable as the score of the applicant\n",
    "XVar = df[[\"credits\", \"gpa\"]] # we now use two dependent variables including credits and gpa\n",
    "LinearModel = sm.OLS(YVar, XVar).fit() # this creates the linear model\n",
    "print(LinearModel.summary()) # this prints out the results of the linear model"
   ]
  },
  {
   "cell_type": "code",
   "execution_count": null,
   "metadata": {},
   "outputs": [],
   "source": [
    "# let's take a look at the correlation matrix of independent variables\n",
    "XVar.corr()"
   ]
  },
  {
   "cell_type": "code",
   "execution_count": null,
   "metadata": {},
   "outputs": [],
   "source": [
    "# let's now do a logistic regression where we try to predict whether or not the applicant\n",
    "# gets an interview\n",
    "YVar = df[[\"interview\"]] # this is our dependent variable\n",
    "XVar = df[[\"score\", \"credits\", \"gpa\"]] # these are our independent variables\n",
    "LogisticModel = sm.Logit(YVar, XVar).fit() # this is the logistic regression\n",
    "print(LogisticModel.summary()) # this prints out the results of the model"
   ]
  },
  {
   "cell_type": "code",
   "execution_count": null,
   "metadata": {},
   "outputs": [],
   "source": [
    "# With your team, caan you and your team add the school variable as a binary variable and include\n",
    "# it in the OLS and logistic regressions.  Is it statistically significant?"
   ]
  }
 ],
 "metadata": {
  "kernelspec": {
   "display_name": "Python 3",
   "language": "python",
   "name": "python3"
  },
  "language_info": {
   "codemirror_mode": {
    "name": "ipython",
    "version": 3
   },
   "file_extension": ".py",
   "mimetype": "text/x-python",
   "name": "python",
   "nbconvert_exporter": "python",
   "pygments_lexer": "ipython3",
   "version": "3.7.4"
  }
 },
 "nbformat": 4,
 "nbformat_minor": 2
}
