{
 "cells": [
  {
   "cell_type": "code",
   "execution_count": null,
   "metadata": {},
   "outputs": [],
   "source": [
    "# this script will pull stock data from the web and save it as a csv file\n",
    "# first we need to import the libaries\n",
    "import pandas as pd\n",
    "import numpy as np\n",
    "import matplotlib.pyplot as plt\n",
    "import pandas_datareader.data as web # this library we haven't seen before\n",
    "# if the above line crashes, try to use pip or conda install to install\n",
    "# the pandas_datareader library"
   ]
  },
  {
   "cell_type": "code",
   "execution_count": null,
   "metadata": {},
   "outputs": [],
   "source": [
    "# this will pull in all 2019 stock information about Tesla\n",
    "df_tesla = web.DataReader('TSLA', data_source='yahoo', start='1/1/2019', end='12/31/2019')\n",
    "df_tesla.head() # this prints out the first few rows of this dataframe"
   ]
  },
  {
   "cell_type": "code",
   "execution_count": null,
   "metadata": {},
   "outputs": [],
   "source": [
    "# this will pull in the information about Ford\n",
    "df_ford = web.DataReader('F', data_source='yahoo', start='1/1/2019', end='12/31/2019')\n",
    "df_ford.head()"
   ]
  },
  {
   "cell_type": "code",
   "execution_count": null,
   "metadata": {},
   "outputs": [],
   "source": [
    "# these two lines saves the dataframes to csv files\n",
    "df_tesla.to_csv('tesla2019.csv')\n",
    "df_ford.to_csv('ford2019.csv')"
   ]
  },
  {
   "cell_type": "code",
   "execution_count": null,
   "metadata": {},
   "outputs": [],
   "source": []
  }
 ],
 "metadata": {
  "kernelspec": {
   "display_name": "Python 3",
   "language": "python",
   "name": "python3"
  },
  "language_info": {
   "codemirror_mode": {
    "name": "ipython",
    "version": 3
   },
   "file_extension": ".py",
   "mimetype": "text/x-python",
   "name": "python",
   "nbconvert_exporter": "python",
   "pygments_lexer": "ipython3",
   "version": "3.6.5"
  }
 },
 "nbformat": 4,
 "nbformat_minor": 2
}
