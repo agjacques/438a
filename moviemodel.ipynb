{
 "cells": [
  {
   "cell_type": "code",
   "execution_count": null,
   "metadata": {},
   "outputs": [],
   "source": [
    "import sqlite3 # this is a new library that we are using to work with sql databases\n",
    "import pandas as pd\n",
    "import matplotlib.pyplot as plt"
   ]
  },
  {
   "cell_type": "code",
   "execution_count": null,
   "metadata": {},
   "outputs": [],
   "source": [
    "con = sqlite3.connect('./movie_lines.db') # importing an sql database\n",
    "cur = con.cursor() # setting a cursor to the database that we read in"
   ]
  },
  {
   "cell_type": "code",
   "execution_count": null,
   "metadata": {},
   "outputs": [],
   "source": [
    "# let's start very simply with an iteration from one of the movies table\n",
    "cur.execute(\"SELECT * FROM movies LIMIT 10\")\n",
    "results = cur.fetchall()\n",
    "for row in results:\n",
    "    print(row)"
   ]
  },
  {
   "cell_type": "code",
   "execution_count": null,
   "metadata": {},
   "outputs": [],
   "source": [
    "cur.execute(\"SELECT * FROM characters LIMIT 10\") # here is the results from the characters table\n",
    "results = cur.fetchall()\n",
    "for row in results:\n",
    "    print(row)"
   ]
  },
  {
   "cell_type": "code",
   "execution_count": null,
   "metadata": {},
   "outputs": [],
   "source": [
    "# now we can join the two tables by connecting the primary keys\n",
    "cur.execute(\"SELECT * FROM movies, characters where movies.movie_id = characters.movie_id LIMIT 10\")\n",
    "results = cur.fetchall()\n",
    "for row in results:\n",
    "    print(row)"
   ]
  },
  {
   "cell_type": "code",
   "execution_count": null,
   "metadata": {},
   "outputs": [],
   "source": [
    "# here we can take a look at taking some of the results and putting it into a dataframe\n",
    "# notice that we just want the rating and the geneder of the lead actor\n",
    "SQL_Query = pd.read_sql_query(\"SELECT characters.gender, movies.imdb_rating FROM movies, characters where movies.movie_id = characters.movie_id\", con)\n",
    "df = pd.DataFrame(SQL_Query, columns=['gender','imdb_rating'])"
   ]
  },
  {
   "cell_type": "code",
   "execution_count": null,
   "metadata": {},
   "outputs": [],
   "source": [
    "df.describe() # you've seen this before; this describes the first few rows of a dataframe"
   ]
  },
  {
   "cell_type": "code",
   "execution_count": null,
   "metadata": {},
   "outputs": [],
   "source": [
    "# we can join the dataframes a different way by brining in\n",
    "# two dataframes and then joining them within python\n",
    "\n",
    "SQL_Query = pd.read_sql_query(\"SELECT movie_id, imdb_rating FROM movies\", con)\n",
    "df_rating = pd.DataFrame(SQL_Query, columns=['movie_id','imdb_rating'])\n",
    "SQL_Query = pd.read_sql_query(\"SELECT movie_id, gender FROM characters\", con)\n",
    "df_gender = pd.DataFrame(SQL_Query, columns=['movie_id','gender'])\n",
    "df = df_gender.join(df_rating.set_index('movie_id'), on='movie_id')\n",
    "df.describe()"
   ]
  },
  {
   "cell_type": "code",
   "execution_count": null,
   "metadata": {},
   "outputs": [],
   "source": [
    "# now we get to test our hypothesis about whether or not a movie with a female lead is more\n",
    "# or less likely to have a higher IMDB rating\n",
    "df.boxplot(column=['imdb_rating'], by=\"gender\")\n",
    "plt.suptitle(\"\")\n",
    "plt.xlabel(\"\")\n",
    "plt.show()"
   ]
  },
  {
   "cell_type": "code",
   "execution_count": null,
   "metadata": {},
   "outputs": [],
   "source": []
  }
 ],
 "metadata": {
  "kernelspec": {
   "display_name": "Python 3",
   "language": "python",
   "name": "python3"
  },
  "language_info": {
   "codemirror_mode": {
    "name": "ipython",
    "version": 3
   },
   "file_extension": ".py",
   "mimetype": "text/x-python",
   "name": "python",
   "nbconvert_exporter": "python",
   "pygments_lexer": "ipython3",
   "version": "3.8.3"
  }
 },
 "nbformat": 4,
 "nbformat_minor": 2
}
